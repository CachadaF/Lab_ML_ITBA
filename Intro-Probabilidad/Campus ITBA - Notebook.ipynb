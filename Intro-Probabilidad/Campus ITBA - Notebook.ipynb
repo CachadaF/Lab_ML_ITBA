{
 "cells": [
  {
   "cell_type": "markdown",
   "metadata": {},
   "source": [
    "# Pregunta 7\n",
    "    Veamos una técnica utilizada para la detección de SPAM/HAM.\n",
    "    SPAM: Mail no deseado. HAM: Mail deseado.\n",
    "    Se tiene un dataset de mails clasificados en SPAM/HAM. Se toma cada mail y se cuenta cuantas veces aparece cada una de las palabras en un vocabulario definido. Para nuestro ejemplo sencillo esas palabras serán:\n",
    "    -alargue\n",
    "    -automovil\n",
    "    -casa\n",
    "    -novedoso\n",
    "    Cabe aclarar que en una implementación real, la cantidad de palabras del vocabulario está en el orden de los miles. Por claridad utilizamos un vocabulario de 4 palabras. \n",
    "    Una vez definido el vocabulario, se cuenta en cada mail la ocurrencia de cada una de las palabras definidas en el vocabulario y en base a la información de si el mail es SPAM o HAM se construye una tabla como la siguiente: \n",
    "    \n",
    "    \"alargue\" \t\"automóvil\" \t\"casa\" \t\"novedoso\" \tCategoría\n",
    "    \n",
    "    3 \t3 \t1 \t6 \tSPAM\n",
    "    1 \t4 \t7 \t1 \tHAM\n",
    "    1 \t4 \t3 \t1 \tHAM\n",
    "    4 \t2 \t1 \t5 \tSPAM\n",
    "    1 \t3 \t4 \t2 \tHAM\n",
    "    2 \t4 \t5 \t1 \tHAM\n",
    "\n",
    "    Escribir un script en una jupyter-notebook que a partir de una tabla con el formato mostrado anteriormente estime: \n",
    "    \n",
    " - La probabilidad de recibir un mail y que sea SPAM o HAM. Es decir: P (Cat.). Por ejemplo: P(Cat. = \"SPAM\" ) o P(Cat. = \"HAM\" ).\n",
    "- La probabilidad de ocurrencia de cada palabra, dada una categoría de mail (SPAM o HAM). Es decir: P(W|Cat.). Por ejemplo:  P(W = \"Alargue\" | Cat. = \"SPAM\").\n",
    "\n",
    "    Luego de realizar estas estimaciones, el script deberá, a partir del conteo de palabras en el vocabulario de un nuevo mail, estimar la probabilidad de que dicho mail sea SPAM o HAM.\n",
    "    \n",
    "    Probar el script con la tabla proporcionada anteriormente y calcular la probabilidad de que el siguiente conteo de palabras pertenezca a un mail SPAM:\n",
    "    \n",
    "    \"alargue\" \t\"automóvil\" \t\"casa\" \t\"novedoso\" \tCategoría\n",
    "    4 \t1 \t1 \t5 \t???\n"
   ]
  },
  {
   "cell_type": "code",
   "execution_count": 1,
   "metadata": {},
   "outputs": [],
   "source": [
    "labels = [\"SPAM\",\"HAM\",\"HAM\",\"SPAM\",\"HAM\",\"HAM\"]\n",
    "vocabulary =[\"alargue\",\"automóvil\",\"casa\",\"novedoso\"]\n",
    "feature_matrix = {(0,0):3,(0,1):3,(0,2):1,(0,3):6,\n",
    "                     (1,0):1,(1,1):4,(1,2):7,(1,3):1,\n",
    "                     (2,0):1,(2,1):4,(2,2):3,(2,3):1,\n",
    "                     (3,0):4,(3,1):2,(3,2):1,(3,3):5,\n",
    "                     (4,0):1,(4,1):3,(4,2):4,(4,3):2,\n",
    "                     (5,0):2,(5,1):4,(5,2):5,(5,3):1}"
   ]
  },
  {
   "cell_type": "code",
   "execution_count": 2,
   "metadata": {},
   "outputs": [
    {
     "name": "stdout",
     "output_type": "stream",
     "text": [
      "{(0, 0): 3, (0, 1): 3, (0, 2): 1, (0, 3): 6, (1, 0): 1, (1, 1): 4, (1, 2): 7, (1, 3): 1, (2, 0): 1, (2, 1): 4, (2, 2): 3, (2, 3): 1, (3, 0): 4, (3, 1): 2, (3, 2): 1, (3, 3): 5, (4, 0): 1, (4, 1): 3, (4, 2): 4, (4, 3): 2, (5, 0): 2, (5, 1): 4, (5, 2): 5, (5, 3): 1}\n"
     ]
    }
   ],
   "source": [
    "print(feature_matrix)"
   ]
  },
  {
   "cell_type": "code",
   "execution_count": 3,
   "metadata": {},
   "outputs": [
    {
     "name": "stdout",
     "output_type": "stream",
     "text": [
      "P(Categoria = HAM) =  0.6666666666666666\n",
      "P(Categoria = SPAM) =  0.3333333333333333\n"
     ]
    }
   ],
   "source": [
    "#Probabilidad de que sea SPAM/HAM un mail.\n",
    "Prob_HAM = labels.count(\"HAM\") / len(labels)\n",
    "Prob_SPAM = labels.count(\"SPAM\") / len(labels)\n",
    "print(\"P(Categoria = HAM) = \",Prob_HAM)\n",
    "print(\"P(Categoria = SPAM) = \",Prob_SPAM)"
   ]
  },
  {
   "cell_type": "code",
   "execution_count": 4,
   "metadata": {},
   "outputs": [],
   "source": [
    "#SPAM or HAM\n",
    "input_cat = (4,1,1,5)"
   ]
  },
  {
   "cell_type": "code",
   "execution_count": 6,
   "metadata": {},
   "outputs": [],
   "source": [
    "#Haciendolo a mano para ver los calculos:\n",
    "Total_SPAM = 3+3+1+6 + 4+2+1+5\n",
    "Total_HAM = 1+4+7+1 + 1+4+3+1 + 1+3+4+2 + 2+4+5+1\n",
    "\n",
    "Prob_Alargue_SPAM = 3 + 4 / Total_SPAM\n",
    "Prob_Alargue_HAM = 1 + 1 + 1 + 2 / Total_HAM\n",
    "Prob_Automovil_SPAM = 3 + 2 / Total_SPAM\n",
    "Prob_Automovil_HAM = 4 + 4 + 3 + 4 / Total_HAM\n",
    "Prob_Casa_SPAM = 1 + 1 / Total_SPAM\n",
    "Prob_Casa_HAM = 7 + 3 + 4 + 5 / Total_HAM\n",
    "Prob_Novedoso_SPAM = 6 + 5 / Total_SPAM\n",
    "Prob_Novedoso_HAM = 1 + 1 + 2 + 1 / Total_HAM"
   ]
  },
  {
   "cell_type": "code",
   "execution_count": 18,
   "metadata": {},
   "outputs": [
    {
     "name": "stdout",
     "output_type": "stream",
     "text": [
      "Probabilidad_SPAM: 0.0934999081879921\n",
      "Probabilidad_HAM: 0.906500091812008\n"
     ]
    }
   ],
   "source": [
    "#Calculos de las probabilidad de que el mail sea SPAM o HAM\n",
    "\n",
    "Numerador_Probabilidad_SPAM = ((Prob_Alargue_SPAM ** input_cat[0]) * (Prob_Automovil_SPAM ** input_cat[1]) * (Prob_Casa_SPAM ** input_cat[2]) * (Prob_Novedoso_SPAM ** input_cat[3]) * Prob_SPAM)\n",
    "Numerador_Probabilidad_HAM = ((Prob_Alargue_HAM ** input_cat[0]) * (Prob_Automovil_HAM ** input_cat[1]) * (Prob_Casa_HAM ** input_cat[2]) * (Prob_Novedoso_HAM ** input_cat[3]) * Prob_HAM)\n",
    "\n",
    "Probabilidad_SPAM = Numerador_Probabilidad_SPAM / (Numerador_Probabilidad_SPAM + Numerador_Probabilidad_HAM)\n",
    "Probabilidad_HAM = Numerador_Probabilidad_HAM / (Numerador_Probabilidad_SPAM + Numerador_Probabilidad_HAM)\n",
    "\n",
    "print(\"Probabilidad_SPAM:\",Probabilidad_SPAM)\n",
    "print(\"Probabilidad_HAM:\",Probabilidad_HAM)"
   ]
  },
  {
   "cell_type": "code",
   "execution_count": null,
   "metadata": {},
   "outputs": [],
   "source": []
  }
 ],
 "metadata": {
  "kernelspec": {
   "display_name": "Python 3",
   "language": "python",
   "name": "python3"
  },
  "language_info": {
   "codemirror_mode": {
    "name": "ipython",
    "version": 3
   },
   "file_extension": ".py",
   "mimetype": "text/x-python",
   "name": "python",
   "nbconvert_exporter": "python",
   "pygments_lexer": "ipython3",
   "version": "3.6.4"
  }
 },
 "nbformat": 4,
 "nbformat_minor": 2
}
