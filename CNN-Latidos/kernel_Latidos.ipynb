{
 "cells": [
  {
   "cell_type": "markdown",
   "metadata": {
    "_cell_guid": "b1076dfc-b9ad-4769-8c92-a6c4dae69d19",
    "_uuid": "8f2839f25d086af736a60e9eeb907d3b93b6e0e5",
    "collapsed": true
   },
   "source": [
    "# Challenge de detección de latidos\n",
    "\n",
    "Se deberán clasificar unos latidos de test en las siguientes categorías:\n",
    "\n",
    "N\t\tNormal beat (displayed as \"·\" by the PhysioBank ATM, LightWAVE, pschart, and psfd)  \n",
    "R\t\tRight bundle branch block beat  \n",
    "A\t\tAtrial premature beat  \n",
    "V\t\tPremature ventricular contraction  \n",
    "\n",
    "Para lo cual se cuenta con los siguientes datos de entrenamiento:\n",
    "\n",
    "signals_train.pkl: una lista que en cada elemento contiene 12 derivaciones de un mismo latido. Es decir, para un latido en particular, se tienen 12 mediciones en puntos distintos del cuerpo.\n",
    "\n",
    "annotations_train.pkl: una lista que contiene,para cada elemento de la lista anterior, la clasificación en {N, R, A, V} de el latido correspondiente.\n",
    "\n",
    "patients_train.pkl: una lista que contiene, para cada elemento de la lista de señales, un string que identifica al paciente al que se le midió ese latido.\n",
    "\n",
    "Para testing se brinda la siguiente información:\n",
    "\n",
    "signals_test.pkl: idem signals_train.pkl\n",
    "\n",
    "patients_test.pkl: idem patients_train.pkl\n",
    "\n",
    "Aclaración:\n",
    "Debido a problemas en el dataset original, fueron removidos los pacientes 4, 17, 35, 44, 57, 72 y 74, ya que sus anotaciones contenían errores. No se preocupen cuando no los vean.\n",
    "\n",
    "Se deberá subir un archivo .csv que contenga dos columnas:\n",
    "\n",
    "id, type\n",
    "\n",
    "La columna id deberá contener el número de ítem de signals_test.pkl que se clasificó\n",
    "La columna type deberá tener la clasificación que se le dió al latido nro id de la lista en signals_test.pkl\n",
    "\n",
    "Se adjunta como ejemplo un archivo sample.csv con el formato que se deberá subir para ser evaluado.\n",
    "Se evaluará el accuracy de clasificación de los latidos entregados en el subset de test. Dichos latidos son 20186."
   ]
  },
  {
   "cell_type": "code",
   "execution_count": null,
   "metadata": {
    "_cell_guid": "79c7e3d0-c299-4dcb-8224-4455121ee9b0",
    "_uuid": "d629ff2d2480ee46fbb7e2d37f6b5fab8052498a"
   },
   "outputs": [],
   "source": [
    "# Cargo los datos de train\n",
    "\n",
    "import pickle\n",
    "with open(\"C:/Users/Lenovo/Documents/GitHub/Datasets/Kaggle_Signals_ITBA/signals_train.pkl\", 'rb') as f:\n",
    "        lat=pickle.load(f)\n",
    "with open(\"C:/Users/Lenovo/Documents/GitHub/Datasets/Kaggle_Signals_ITBA/annotations_train.pkl\", 'rb') as f:\n",
    "        ann=pickle.load(f)\n",
    "with open(\"C:/Users/Lenovo/Documents/GitHub/Datasets/Kaggle_Signals_ITBA/patients_train.pkl\", 'rb') as f:\n",
    "        pat=pickle.load(f)"
   ]
  },
  {
   "cell_type": "code",
   "execution_count": null,
   "metadata": {
    "_uuid": "fb78cd3fcb062d16c6c1f0cc4dd80c2f914a6900"
   },
   "outputs": [],
   "source": [
    "# Grafico el latido nro lat_idx\n",
    "import numpy as np\n",
    "from random import randint\n",
    "import matplotlib.pyplot as plot\n",
    "lat_idx=randint(0,len(lat))\n",
    "f, axarr = plot.subplots(12, sharex=True)\n",
    "f.set_figheight(15)\n",
    "f.set_figwidth(15)\n",
    "print(\"Latido nro: {}\".format(lat_idx))\n",
    "print(\"El latido es del tipo: {}\".format(ann[lat_idx]))\n",
    "print(\"El latido pertence al paciente {}\".format(pat[lat_idx]))\n",
    "for i in range(12):\n",
    "    axarr[i].plot(lat[lat_idx].T[i])\n",
    "plot.show()\n"
   ]
  },
  {
   "cell_type": "code",
   "execution_count": null,
   "metadata": {
    "_uuid": "eacc950bb1c7b24a63aa11d8e2633b0763ea09bc"
   },
   "outputs": [],
   "source": [
    "# Cargo los datos de test\n",
    "\n",
    "import pickle\n",
    "with open(\"C:/Users/Lenovo/Documents/GitHub/Datasets/Kaggle_Signals_ITBA/signals_test.pkl\", 'rb') as f:\n",
    "        lat=pickle.load(f)\n",
    "with open(\"C:/Users/Lenovo/Documents/GitHub/Datasets/Kaggle_Signals_ITBA/patients_test.pkl\", 'rb') as f:\n",
    "        pat=pickle.load(f)"
   ]
  },
  {
   "cell_type": "code",
   "execution_count": 2,
   "metadata": {
    "_uuid": "cb004ede80478e7b18bcc3e14881903b919a7062"
   },
   "outputs": [
    {
     "ename": "NameError",
     "evalue": "name 'lat' is not defined",
     "output_type": "error",
     "traceback": [
      "\u001b[1;31m---------------------------------------------------------------------------\u001b[0m",
      "\u001b[1;31mNameError\u001b[0m                                 Traceback (most recent call last)",
      "\u001b[1;32m<ipython-input-2-d7b73e2ea86e>\u001b[0m in \u001b[0;36m<module>\u001b[1;34m()\u001b[0m\n\u001b[0;32m      4\u001b[0m \u001b[1;32mimport\u001b[0m \u001b[0mos\u001b[0m\u001b[1;33m\u001b[0m\u001b[0m\n\u001b[0;32m      5\u001b[0m \u001b[1;32mimport\u001b[0m \u001b[0mmatplotlib\u001b[0m\u001b[1;33m.\u001b[0m\u001b[0mpyplot\u001b[0m \u001b[1;32mas\u001b[0m \u001b[0mplot\u001b[0m\u001b[1;33m\u001b[0m\u001b[0m\n\u001b[1;32m----> 6\u001b[1;33m \u001b[0mlat_idx\u001b[0m\u001b[1;33m=\u001b[0m\u001b[0mrandint\u001b[0m\u001b[1;33m(\u001b[0m\u001b[1;36m0\u001b[0m\u001b[1;33m,\u001b[0m\u001b[0mlen\u001b[0m\u001b[1;33m(\u001b[0m\u001b[0mlat\u001b[0m\u001b[1;33m)\u001b[0m\u001b[1;33m)\u001b[0m\u001b[1;33m\u001b[0m\u001b[0m\n\u001b[0m\u001b[0;32m      7\u001b[0m \u001b[0mf\u001b[0m\u001b[1;33m,\u001b[0m \u001b[0maxarr\u001b[0m \u001b[1;33m=\u001b[0m \u001b[0mplot\u001b[0m\u001b[1;33m.\u001b[0m\u001b[0msubplots\u001b[0m\u001b[1;33m(\u001b[0m\u001b[1;36m12\u001b[0m\u001b[1;33m,\u001b[0m \u001b[0msharex\u001b[0m\u001b[1;33m=\u001b[0m\u001b[1;32mTrue\u001b[0m\u001b[1;33m)\u001b[0m\u001b[1;33m\u001b[0m\u001b[0m\n\u001b[0;32m      8\u001b[0m \u001b[0mf\u001b[0m\u001b[1;33m.\u001b[0m\u001b[0mset_figheight\u001b[0m\u001b[1;33m(\u001b[0m\u001b[1;36m15\u001b[0m\u001b[1;33m)\u001b[0m\u001b[1;33m\u001b[0m\u001b[0m\n",
      "\u001b[1;31mNameError\u001b[0m: name 'lat' is not defined"
     ]
    }
   ],
   "source": [
    "# Grafico el latido nro lat_idx\n",
    "import numpy as np\n",
    "from random import randint\n",
    "import os\n",
    "import matplotlib.pyplot as plot\n",
    "lat_idx=randint(0,len(lat))\n",
    "f, axarr = plot.subplots(12, sharex=True)\n",
    "f.set_figheight(15)\n",
    "f.set_figwidth(15)\n",
    "print(\"Latido nro: {}\".format(lat_idx))\n",
    "print(\"El latido pertence al paciente {}\".format(pat[lat_idx]))\n",
    "for i in range(12):\n",
    "    axarr[i].plot(lat[lat_idx].T[i])\n",
    "plot.show()"
   ]
  },
  {
   "cell_type": "code",
   "execution_count": null,
   "metadata": {
    "_uuid": "2ff0c8a61d5dc238bdb32f5a4867d66165226717",
    "collapsed": true
   },
   "outputs": [],
   "source": []
  }
 ],
 "metadata": {
  "kernelspec": {
   "display_name": "Python 3",
   "language": "python",
   "name": "python3"
  },
  "language_info": {
   "codemirror_mode": {
    "name": "ipython",
    "version": 3
   },
   "file_extension": ".py",
   "mimetype": "text/x-python",
   "name": "python",
   "nbconvert_exporter": "python",
   "pygments_lexer": "ipython3",
   "version": "3.6.4"
  }
 },
 "nbformat": 4,
 "nbformat_minor": 1
}
