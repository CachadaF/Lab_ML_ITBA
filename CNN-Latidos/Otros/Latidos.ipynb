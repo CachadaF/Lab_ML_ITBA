{
 "cells": [
  {
   "cell_type": "code",
   "execution_count": null,
   "metadata": {},
   "outputs": [],
   "source": [
    "import numpy as np\n",
    "import pandas as pd\n",
    "import pickle"
   ]
  },
  {
   "cell_type": "markdown",
   "metadata": {},
   "source": [
    "# Carga de datos"
   ]
  },
  {
   "cell_type": "code",
   "execution_count": null,
   "metadata": {},
   "outputs": [],
   "source": [
    "with open(\"C:/Users/Lenovo/Documents/GitHub/Datasets/Kaggle_Signals_ITBA/signals_train.pkl\", 'rb') as f:\n",
    "        lat=pickle.load(f)\n",
    "with open(\"C:/Users/Lenovo/Documents/GitHub/Datasets/Kaggle_Signals_ITBA/annotations_train.pkl\", 'rb') as f:\n",
    "        ann=pickle.load(f)\n",
    "with open(\"C:/Users/Lenovo/Documents/GitHub/Datasets/Kaggle_Signals_ITBA/patients_train.pkl\", 'rb') as f:\n",
    "        pat=pickle.load(f)\n",
    "\n",
    "#print(type(lat))\n",
    "#print(np.shape(lat))"
   ]
  },
  {
   "cell_type": "markdown",
   "metadata": {},
   "source": [
    "# Aliviano el dataset"
   ]
  },
  {
   "cell_type": "code",
   "execution_count": null,
   "metadata": {},
   "outputs": [],
   "source": [
    "# Selecciono los indices de 2000 latidos (500 de cada tipo)\n",
    "\n",
    "print('R')\n",
    "r = []\n",
    "for index, value in enumerate(ann):\n",
    "    if ann[index]=='R':\n",
    "        #print(f'{index}: {value}')\n",
    "        r.append(index)\n",
    "R = r[:500]\n",
    "print(R)\n",
    "print(len(R))\n",
    "\n",
    "\n",
    "print('N')\n",
    "n = []\n",
    "for index, value in enumerate(ann):\n",
    "    if ann[index]=='N':\n",
    "        n.append(index)\n",
    "N = n[:500]\n",
    "print(N)\n",
    "print(len(N))\n",
    "        \n",
    "\n",
    "print('A')\n",
    "a = []\n",
    "for index, value in enumerate(ann):\n",
    "    if ann[index]=='A':\n",
    "        a.append(index)\n",
    "A = a[:500]\n",
    "print(A)\n",
    "print(len(A))\n",
    "        \n",
    "\n",
    "print('V')\n",
    "v = []\n",
    "for index, value in enumerate(ann):\n",
    "    if ann[index]=='V':\n",
    "        v.append(index)\n",
    "V = v[:500]\n",
    "print(V)\n",
    "print(len(V))\n",
    "\n",
    "T = R + N + A + V\n",
    "print(T)\n",
    "print(len(T))\n",
    "        \n"
   ]
  },
  {
   "cell_type": "code",
   "execution_count": 8,
   "metadata": {},
   "outputs": [],
   "source": [
    "#print(type(lat))\n",
    "#print(len(lat))\n",
    "#print(type(lat[0]))\n",
    "#print(len(lat[0]))\n",
    "#print(type(lat[0][0]))\n",
    "#print(len(lat[0][0]))\n",
    "#print(type(lat[0][0][0]))\n",
    "#print('>>>object of type numpy.float64 has no len()')\n",
    "#print('\\n')"
   ]
  },
  {
   "cell_type": "code",
   "execution_count": null,
   "metadata": {},
   "outputs": [],
   "source": [
    "lat1 = np.array(lat)\n",
    "latidos = lat1[T]\n",
    "print(latidos.shape)"
   ]
  },
  {
   "cell_type": "code",
   "execution_count": null,
   "metadata": {},
   "outputs": [],
   "source": [
    "ann1 = np.array(ann)\n",
    "notas = ann1[T]\n",
    "print(notas.shape)"
   ]
  },
  {
   "cell_type": "code",
   "execution_count": null,
   "metadata": {},
   "outputs": [],
   "source": [
    "pat1 = np.array(pat)\n",
    "paciente = pat1[T]\n",
    "print(paciente.shape)"
   ]
  },
  {
   "cell_type": "code",
   "execution_count": null,
   "metadata": {},
   "outputs": [],
   "source": [
    "print(type(latidos))\n",
    "print(len(latidos))\n",
    "print(latidos[0][100])"
   ]
  },
  {
   "cell_type": "code",
   "execution_count": null,
   "metadata": {},
   "outputs": [],
   "source": [
    "l = len(latidos)\n",
    "print(l)\n",
    "latidos_final = []\n",
    "for i in latidos:\n",
    "    v = i[100:150]\n",
    "    #print(np.shape(v))\n",
    "    #print(type(v))\n",
    "    latidos_final.append(v)"
   ]
  },
  {
   "cell_type": "code",
   "execution_count": null,
   "metadata": {},
   "outputs": [],
   "source": [
    "print(np.shape(latidos_final))"
   ]
  },
  {
   "cell_type": "code",
   "execution_count": null,
   "metadata": {},
   "outputs": [],
   "source": [
    "# Grafico el latido nro lat_idx\n",
    "import numpy as np\n",
    "from random import randint\n",
    "import matplotlib.pyplot as plot\n",
    "lat_idx=randint(0,len(latidos_final)) #randint(0,len(lat))\n",
    "f, axarr = plot.subplots(12, sharex=True)\n",
    "f.set_figheight(15)\n",
    "f.set_figwidth(15)\n",
    "print(\"Latido nro: {}\".format(lat_idx))\n",
    "print(\"El latido es del tipo: {}\".format(notas[lat_idx])) #format(ann[lat_idx]))\n",
    "print(\"El latido pertence al paciente {}\".format(paciente[lat_idx])) #format(pat[lat_idx]))\n",
    "for i in range(12):\n",
    "    axarr[i].plot(latidos_final[lat_idx].T[i]) #axarr[i].plot(lat[lat_idx].T[i])\n",
    "plot.show()"
   ]
  },
  {
   "cell_type": "code",
   "execution_count": null,
   "metadata": {},
   "outputs": [],
   "source": [
    "import numpy as np\n",
    "x = np.array(latidos_final)\n",
    "print(x.shape)\n",
    "y = np.array(notas)\n",
    "print(y.shape)"
   ]
  },
  {
   "cell_type": "code",
   "execution_count": null,
   "metadata": {},
   "outputs": [],
   "source": [
    "from sklearn.model_selection import train_test_split\n",
    "x_train, x_valid, y_train, y_valid = train_test_split(x, y, test_size = 0.1)"
   ]
  },
  {
   "cell_type": "code",
   "execution_count": null,
   "metadata": {},
   "outputs": [],
   "source": [
    "print(x_train.shape)\n",
    "print(y_train.shape)"
   ]
  },
  {
   "cell_type": "code",
   "execution_count": null,
   "metadata": {},
   "outputs": [],
   "source": [
    "from keras.callbacks import ModelCheckpoint \n",
    "from keras.models import Sequential\n",
    "from keras.layers.core import Dense, Dropout, Activation, Flatten\n",
    "from keras.models import Model\n",
    "from keras.layers import Input, Dense\n",
    "from keras.layers.normalization import BatchNormalization\n",
    "from keras import optimizers\n",
    "from keras import initializers\n",
    "from helper import PlotLosses\n",
    "\n",
    "model = Sequential()\n",
    "model.add(Flatten(input_shape=x_train.shape[1:]))\n",
    "model.add(Dense(500, name='Salida1'))\n",
    "model.add(BatchNormalization())\n",
    "model.add(Activation('relu'))\n",
    "model.add(Dropout(0.2))\n",
    "\n",
    "model.add(Dense(4, activation='softmax', name='Salida5'))\n",
    "model.summary()"
   ]
  },
  {
   "cell_type": "code",
   "execution_count": null,
   "metadata": {},
   "outputs": [],
   "source": [
    "Adam = optimizers.adam(lr=0.0001, beta_1=0.9, beta_2=0.999, epsilon=1e-08, decay=0.00001)\n",
    "model.compile(loss = 'categorical_crossentropy', optimizer=Adam, metrics=['accuracy'])"
   ]
  },
  {
   "cell_type": "code",
   "execution_count": null,
   "metadata": {},
   "outputs": [],
   "source": [
    "plot_losses = PlotLosses(plot_interval=1, evaluate_interval=20, x_val=x_valid, y_val_categorical=y_valid)\n",
    "checkpointer = ModelCheckpoint(filepath='latidos.hdf5', verbose=1, save_best_only=True)"
   ]
  },
  {
   "cell_type": "code",
   "execution_count": null,
   "metadata": {},
   "outputs": [],
   "source": [
    "print(x_valid.shape)\n",
    "print(y_valid.shape)"
   ]
  },
  {
   "cell_type": "code",
   "execution_count": null,
   "metadata": {},
   "outputs": [],
   "source": [
    "batch_size = 1024\n",
    "epochs=5 #14\n",
    "model.fit(x_train, \n",
    "                       y_train,\n",
    "                       epochs=epochs , batch_size=batch_size, \n",
    "                       verbose=1, \n",
    "                       validation_data = (x_valid, y_valid),\n",
    "                       callbacks=[plot_losses, checkpointer],\n",
    "                      )"
   ]
  },
  {
   "cell_type": "code",
   "execution_count": null,
   "metadata": {},
   "outputs": [],
   "source": []
  }
 ],
 "metadata": {
  "kernelspec": {
   "display_name": "Python 3",
   "language": "python",
   "name": "python3"
  },
  "language_info": {
   "codemirror_mode": {
    "name": "ipython",
    "version": 3
   },
   "file_extension": ".py",
   "mimetype": "text/x-python",
   "name": "python",
   "nbconvert_exporter": "python",
   "pygments_lexer": "ipython3",
   "version": "3.6.4"
  }
 },
 "nbformat": 4,
 "nbformat_minor": 2
}
