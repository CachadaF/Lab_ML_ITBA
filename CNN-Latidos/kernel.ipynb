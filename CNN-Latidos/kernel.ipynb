{
  "cells": [
    {
      "metadata": {
        "_uuid": "8f2839f25d086af736a60e9eeb907d3b93b6e0e5",
        "_cell_guid": "b1076dfc-b9ad-4769-8c92-a6c4dae69d19",
        "trusted": true,
        "collapsed": true
      },
      "cell_type": "markdown",
      "source": "# Challenge de detección de latidos\n\nSe deberán clasificar unos latidos de test en las siguientes categorías:\n\nN\t\tNormal beat (displayed as \"·\" by the PhysioBank ATM, LightWAVE, pschart, and psfd)  \nR\t\tRight bundle branch block beat  \nA\t\tAtrial premature beat  \nV\t\tPremature ventricular contraction  \n\nPara lo cual se cuenta con los siguientes datos de entrenamiento:\n\nsignals_train.pkl: una lista que en cada elemento contiene 12 derivaciones de un mismo latido. Es decir, para un latido en particular, se tienen 12 mediciones en puntos distintos del cuerpo.\n\nannotations_train.pkl: una lista que contiene,para cada elemento de la lista anterior, la clasificación en {N, R, A, V} de el latido correspondiente.\n\npatients_train.pkl: una lista que contiene, para cada elemento de la lista de señales, un string que identifica al paciente al que se le midió ese latido.\n\nPara testing se brinda la siguiente información:\n\nsignals_test.pkl: idem signals_train.pkl\n\npatients_test.pkl: idem patients_train.pkl\n\nAclaración:\nDebido a problemas en el dataset original, fueron removidos los pacientes 4, 17, 35, 44, 57, 72 y 74, ya que sus anotaciones contenían errores. No se preocupen cuando no los vean.\n\nSe deberá subir un archivo .csv que contenga dos columnas:\n\nid, type\n\nLa columna id deberá contener el número de ítem de signals_test.pkl que se clasificó\nLa columna type deberá tener la clasificación que se le dió al latido nro id de la lista en signals_test.pkl\n\nSe adjunta como ejemplo un archivo sample.csv con el formato que se deberá subir para ser evaluado.\nSe evaluará el accuracy de clasificación de los latidos entregados en el subset de test. Dichos latidos son 20186."
    },
    {
      "metadata": {
        "trusted": true,
        "_uuid": "e466e7fca063f5df31dd17c333a9e8d9bdabca81",
        "collapsed": true
      },
      "cell_type": "code",
      "source": "import os\n# List data files that are connected to the kernel\nos.listdir('../input/latidositbadatasset')",
      "execution_count": null,
      "outputs": []
    },
    {
      "metadata": {
        "trusted": true,
        "_uuid": "8f35367b7fd4453efee5cfa3e2aa9a9fc1d4b83f",
        "collapsed": true
      },
      "cell_type": "code",
      "source": "os.listdir('../input/lab-ml-itba-clasificacion-de-latidos')",
      "execution_count": null,
      "outputs": []
    },
    {
      "metadata": {
        "_uuid": "72f2440825d8048f840b1181c0d0f2644572ad10"
      },
      "cell_type": "markdown",
      "source": "# Analizo el train"
    },
    {
      "metadata": {
        "_cell_guid": "79c7e3d0-c299-4dcb-8224-4455121ee9b0",
        "_uuid": "d629ff2d2480ee46fbb7e2d37f6b5fab8052498a",
        "trusted": true,
        "collapsed": true
      },
      "cell_type": "code",
      "source": "# Cargo los datos de train\nimport pickle\nwith open(\"../input/lab-ml-itba-clasificacion-de-latidos/signals_train.pkl\", 'rb') as f:\n        lat=pickle.load(f)\nwith open(\"../input/latidositbadatasset/annotations_train.pkl\", 'rb') as f:\n        ann=pickle.load(f)\nwith open(\"../input/latidositbadatasset/patients_train.pkl\", 'rb') as f:\n        pat=pickle.load(f)",
      "execution_count": null,
      "outputs": []
    },
    {
      "metadata": {
        "trusted": true,
        "_uuid": "fb78cd3fcb062d16c6c1f0cc4dd80c2f914a6900",
        "scrolled": true,
        "collapsed": true
      },
      "cell_type": "code",
      "source": "# Grafico el latido nro lat_idx\nimport numpy as np\nfrom random import randint\nimport matplotlib.pyplot as plot\nlat_idx=randint(0,len(lat))\nf, axarr = plot.subplots(12, sharex=True)\nf.set_figheight(15)\nf.set_figwidth(15)\nprint(\"Latido nro: {}\".format(lat_idx))\nprint(\"El latido es del tipo: {}\".format(ann[lat_idx]))\nprint(\"El latido pertence al paciente {}\".format(pat[lat_idx]))\nfor i in range(12):\n    axarr[i].plot(lat[lat_idx].T[i])\nplot.show()\n",
      "execution_count": null,
      "outputs": []
    },
    {
      "metadata": {
        "_uuid": "b0f1dc3f8d5d794f1812b02360b773ed635b72de"
      },
      "cell_type": "markdown",
      "source": "# Analizando datos"
    },
    {
      "metadata": {
        "trusted": true,
        "_uuid": "040bea64505a2a06eeb562e3ae801027870db75b",
        "collapsed": true
      },
      "cell_type": "code",
      "source": "print(\"Latido nro: {}\".format(lat_idx))\nprint(\"Lat_shape:{}\".format(np.shape(lat[lat_idx].T)))\n#print(\"\\n{}\".format(lat[lat_idx].T[11]))",
      "execution_count": null,
      "outputs": []
    },
    {
      "metadata": {
        "trusted": true,
        "scrolled": true,
        "_uuid": "87a8034e8a6d953274ed1ed95686b9e2f288489d",
        "collapsed": true
      },
      "cell_type": "code",
      "source": "print(\"Len de lat:{}\".format(len(lat)))\nprint(\"Len de pat:{}\".format(len(pat)))\nprint(\"Canales:12\")\n#Array -> 240(Latidos)x12(Canales)\n#Pacientes 1-64 Train / 65-75 Test\nprint(\"Len de latidos:{}\".format(len(lat[lat_idx].T[0])))\n\nlat_idx=randint(0,len(lat))\nprint(\"\\n<<<Random>>>\\nLatido nro: {}\".format(lat_idx))\nprint(\"El latido es del tipo: {}\".format(ann[lat_idx]))\nprint(\"El latido pertence al paciente {}\".format(pat[lat_idx]))",
      "execution_count": null,
      "outputs": []
    },
    {
      "metadata": {
        "_uuid": "f295e1992ed6919daab33da57893d8898605e67f"
      },
      "cell_type": "markdown",
      "source": "# Analizo el test"
    },
    {
      "metadata": {
        "trusted": true,
        "_uuid": "eacc950bb1c7b24a63aa11d8e2633b0763ea09bc",
        "collapsed": true
      },
      "cell_type": "code",
      "source": "# Cargo los datos de test\nimport pickle\nwith open(\"../input/latidositbadatasset/signals_test.pkl\", 'rb') as f:\n        lat=pickle.load(f)\nwith open(\"../input/latidositbadatasset/patients_test.pkl\", 'rb') as f:\n        pat=pickle.load(f)",
      "execution_count": null,
      "outputs": []
    },
    {
      "metadata": {
        "trusted": true,
        "_uuid": "cb004ede80478e7b18bcc3e14881903b919a7062",
        "scrolled": false,
        "collapsed": true
      },
      "cell_type": "code",
      "source": "# Grafico el latido nro lat_idx\nimport numpy as np\nfrom random import randint\nimport os\nimport matplotlib.pyplot as plot\nlat_idx=randint(0,len(lat))\nf, axarr = plot.subplots(12, sharex=True)\nf.set_figheight(15)\nf.set_figwidth(15)\nprint(\"Latido nro: {}\".format(lat_idx))\nprint(\"El latido pertence al paciente {}\".format(pat[lat_idx]))\nfor i in range(12):\n    axarr[i].plot(lat[lat_idx].T[i])\nplot.show()",
      "execution_count": null,
      "outputs": []
    },
    {
      "metadata": {
        "trusted": true,
        "collapsed": true,
        "_uuid": "2ff0c8a61d5dc238bdb32f5a4867d66165226717"
      },
      "cell_type": "markdown",
      "source": "## Preprocesamiento"
    },
    {
      "metadata": {
        "_uuid": "04e92221b248a9799703ab0b8bf50c08234d696f"
      },
      "cell_type": "markdown",
      "source": "## Transformaciones de tipos de datos"
    },
    {
      "metadata": {
        "trusted": true,
        "_uuid": "2d8158831dbe028d05aa0a257b23cc3552639e2f"
      },
      "cell_type": "code",
      "source": "import keras\nfrom keras.utils import to_categorical\nfrom keras.callbacks import ModelCheckpoint \nfrom keras.layers.core import Dense, Dropout, Activation, Flatten\nfrom keras.layers.normalization import BatchNormalization\nfrom keras import optimizers\nfrom keras import initializers\nfrom keras.models import Sequential\nfrom keras.layers import Convolution2D, MaxPooling2D, GlobalAveragePooling2D, BatchNormalization\n\nimport sklearn\nfrom sklearn.preprocessing import OneHotEncoder",
      "execution_count": 35,
      "outputs": [
        {
          "output_type": "stream",
          "text": "/opt/conda/lib/python3.6/site-packages/h5py/__init__.py:36: FutureWarning: Conversion of the second argument of issubdtype from `float` to `np.floating` is deprecated. In future, it will be treated as `np.float64 == np.dtype(float).type`.\n  from ._conv import register_converters as _register_converters\nUsing TensorFlow backend.\n",
          "name": "stderr"
        }
      ]
    },
    {
      "metadata": {
        "trusted": true,
        "scrolled": true,
        "_uuid": "0d1d69b9224ad5d95332a2dd14b9ac59609836ad"
      },
      "cell_type": "code",
      "source": "#Me quedo con los distintos tipos de latidos, lo transformo en un Set para que sean unicos, y, luego como un np array.\nprint(\"Tipos de latidos en el dataset: {}\".format(np.array(set(ann))))\n\n# Transformo usando one-hot encoding de los labels\nfrom sklearn.preprocessing import LabelBinarizer \nlabel_binarizer = LabelBinarizer()\nlabel_binarizer.fit(list(set(ann)))\ny = label_binarizer.transform(ann)\n# \nfor tipo_lat in set(ann):\n    print(\"Latido del tipo: {} - One-hot encoding: {}\".format(tipo_lat,label_binarizer.transform(np.array([tipo_lat]))))\n#Probando si esta correcto el one-hot encoding\nrandom_tipo_latido=randint(0,len(ann))\nprint(\"\\nLatido nro:{}\".format(random_tipo_latido))\nprint(\"One-hot: {}\".format(y[random_tipo_latido]))\nprint(\"Tipo Latido: {}\".format(ann[random_tipo_latido]))\n\n#print(\"AAA:{}\".format(label_binarizer.transform(np.array([\"A\",\"N\",\"R\",\"V\"]))))\n",
      "execution_count": 92,
      "outputs": [
        {
          "output_type": "stream",
          "text": "Tipos de latidos en el dataset: {'V', 'A', 'N', 'R'}\nLatido del tipo: V - One-hot encoding: [[0 0 0 1]]\nLatido del tipo: A - One-hot encoding: [[1 0 0 0]]\nLatido del tipo: N - One-hot encoding: [[0 1 0 0]]\nLatido del tipo: R - One-hot encoding: [[0 0 1 0]]\n\nLatido nro:50551\nOne-hot: [0 1 0 0]\nTipo Latido: N\n",
          "name": "stdout"
        }
      ]
    },
    {
      "metadata": {
        "trusted": true,
        "collapsed": true,
        "_uuid": "7fb6916ca54a64dc981703bcb00bcbe128aabe30"
      },
      "cell_type": "markdown",
      "source": "## Modelo"
    },
    {
      "metadata": {
        "trusted": true,
        "_uuid": "e6d75a6ed045fd6d388e9810f9cd42bcff9456fc",
        "collapsed": true
      },
      "cell_type": "code",
      "source": "import keras\nfrom keras.utils import to_categorical\nfrom keras.callbacks import ModelCheckpoint \nfrom keras.layers.core import Dense, Dropout, Activation, Flatten\nfrom keras.layers.normalization import BatchNormalization\nfrom keras import optimizers\nfrom keras import initializers\nfrom keras.models import Sequential\nfrom keras.layers import Convolution2D, MaxPooling2D, GlobalAveragePooling2D, BatchNormalization",
      "execution_count": null,
      "outputs": []
    },
    {
      "metadata": {
        "trusted": true,
        "_uuid": "77fc3003102a5a9cb245b5ab97c1e980d34c4be5",
        "collapsed": true
      },
      "cell_type": "code",
      "source": "#Input_shape\n\n#Output\nclases_latidos = 4\n#Dropout\np = 0.25\n\n# Creo el modelo\nmodel=Sequential()\n\nmodel.add(Convolution2D(filters=8, kernel_size=(3, 3), padding=\"same\", name='Conv1',input_shape=input_shape))\nmodel.add(BatchNormalization())\nmodel.add(Activation('relu'))\nmodel.add(Dropout(p))\n\nmodel.add(MaxPooling2D(pool_size=(2, 2), name='MaxPool1'))\nmodel.add(Dropout(p))\n\nmodel.add(Flatten())\n\nmodel.add(Dense(32))\nmodel.add(BatchNormalization())\nmodel.add(Activation('relu'))\nmodel.add(Dropout(p))\n\nmodel.add(Dense(clases_latidos, activation='softmax'))\n\nmodel.summary()",
      "execution_count": null,
      "outputs": []
    },
    {
      "metadata": {
        "trusted": true,
        "collapsed": true,
        "_uuid": "09d08659449451fcd3690abb179b981d990423c7"
      },
      "cell_type": "code",
      "source": "",
      "execution_count": null,
      "outputs": []
    }
  ],
  "metadata": {
    "kernelspec": {
      "display_name": "Python 3",
      "language": "python",
      "name": "python3"
    },
    "language_info": {
      "name": "python",
      "version": "3.6.4",
      "mimetype": "text/x-python",
      "codemirror_mode": {
        "name": "ipython",
        "version": 3
      },
      "pygments_lexer": "ipython3",
      "nbconvert_exporter": "python",
      "file_extension": ".py"
    }
  },
  "nbformat": 4,
  "nbformat_minor": 1
}