{
 "cells": [
  {
   "cell_type": "markdown",
   "metadata": {},
   "source": [
    "# Ejercitación Básica de GIT\n",
    "\n",
    "1) \n",
    "* Crear un repositorio en github y registrar los pasos.\n",
    "* Crear una carpeta local para el proyecto\n",
    "* Inicializar el repositorio local\n",
    "* Resolver el ejercicio 5 de la parte 2 en una notebook \n",
    "* Agregar la notebook al repositorio local\n",
    "* Hacer un push al repositorio remoto\n",
    "\n",
    "2)\n",
    "* Al repositorio creado en el punto 1, agregar a un compañero como colaborador y ser agregado como colaborador en su repositorio.\n",
    "* Clonar el repositorio del compañero, agregar y resolver en su notebook el ejercicio que se muestra al final de este punto.\n",
    "* Hacer commit y push.\n",
    "* Una vez que el compañero termine de editar nuestra notebook, hacer un pull en nuestro repositorio local para actualizarlo.\n",
    "\n",
    "Ejercicio:\n",
    "\n",
    "Escribir un script que mezcle dos diccionarios. Si ambos diccionarios comparten el mismo key, sus contenidos deberán sumarse.\n",
    "\n",
    "Ejemplo:\n",
    "\n",
    "d1 = {'a': 100, 'b': 200, 'c':300}  \n",
    "d2 = {'a': 300, 'b': 200, 'd':400}\n",
    "\n",
    "Salida: {'a': 400, 'b': 400, 'd': 400, 'c': 300}\n",
    "\n",
    "Mas información sobre diccionarios en: https://www.python-course.eu/dictionaries.php"
   ]
  },
  {
   "cell_type": "code",
   "execution_count": null,
   "metadata": {},
   "outputs": [],
   "source": []
  },
  {
   "cell_type": "markdown",
   "metadata": {},
   "source": [
    "# Ejercitación Básica en Python\n",
    "\n",
    "Los siguientes ejercicios tienen como objetivo introducir al alumno en la programación en Python.  \n",
    "Los mismos están ordenados por dificultad ascendente y fueron extraídos de http://www.practicepython.org/.\n",
    "En dicha página hay información adicional sobre cada ejercicio. Se recomienda leer cada link con detenimiento ya que los recursos para realizar la resolución se encuentran explicados con detalle."
   ]
  },
  {
   "cell_type": "markdown",
   "metadata": {},
   "source": [
    "[Ejercicio 1](http://www.practicepython.org/exercise/2014/01/29/01-character-input.html)\n",
    "- Escribir un programa que pregunte al usuario su nombre y la edad. \n",
    "- Imprimir un mensaje dirigido al usuario que le diga en qué año va a tener 100 años."
   ]
  },
  {
   "cell_type": "code",
   "execution_count": null,
   "metadata": {
    "collapsed": true
   },
   "outputs": [],
   "source": [
    "name = input(\"Give me your name: \")\n",
    "age = int(input(\"Give me your age: \"))\n",
    "print(\"Your name is \" + name)\n",
    "age = age + 100\n",
    "print(\"Your age in 100 years will be: \" + str(age))"
   ]
  },
  {
   "cell_type": "markdown",
   "metadata": {},
   "source": [
    "[Ejercicio 2](http://www.practicepython.org/exercise/2014/02/05/02-odd-or-even.html)\n",
    "- Pedir al usuario que ingrese un número.\n",
    "- Imprimir un mensaje indicando si el número es par o impar."
   ]
  },
  {
   "cell_type": "code",
   "execution_count": null,
   "metadata": {
    "collapsed": true
   },
   "outputs": [],
   "source": [
    "number = int(input(\"Submit a number: \"))\n",
    "if number % 2 == 0:\n",
    "    ret = \"even\"\n",
    "elif number % 2 != 0:\n",
    "    ret = \"odd\"\n",
    "\n",
    "print(\"The number you submit is \"+ ret)"
   ]
  },
  {
   "cell_type": "markdown",
   "metadata": {},
   "source": [
    "[Ejercicio 3](http://www.practicepython.org/exercise/2014/02/15/03-list-less-than-ten.html):\n",
    "\n",
    "- Escribir un programa que imprima todos los elementos de una lista que sean menores al 5.\n",
    "\n"
   ]
  },
  {
   "cell_type": "code",
   "execution_count": null,
   "metadata": {
    "collapsed": true
   },
   "outputs": [],
   "source": [
    "mylist = [1,2,3,4,5,6]\n",
    "for element in mylist:\n",
    "    if (element < 5):\n",
    "        print (\"Elemento menor que 5 : \" + str(element))"
   ]
  },
  {
   "cell_type": "markdown",
   "metadata": {},
   "source": [
    "[Ejercicio 4](http://www.practicepython.org/exercise/2014/02/26/04-divisors.html)\n",
    "- Pedir al usuario que ingrese un número.\n",
    "- Imprimir todos los divisores del número ingresado."
   ]
  },
  {
   "cell_type": "code",
   "execution_count": null,
   "metadata": {
    "collapsed": true
   },
   "outputs": [],
   "source": [
    "number = int(input(\"Submit a number to divide: \"))\n",
    "\n",
    "listR = list(range(1,number+1))\n",
    "\n",
    "listD = []\n",
    "\n",
    "for n in listR:\n",
    "    if number % n == 0:\n",
    "        listD.append(n)\n",
    "\n",
    "print(\"List:\")\n",
    "print(listD)"
   ]
  },
  {
   "cell_type": "markdown",
   "metadata": {},
   "source": [
    "[Ejercicio 5](http://www.practicepython.org/exercise/2014/03/05/05-list-overlap.html)\n",
    "- Escribir un programa que a partir de dos listas, devuelva los elementos comunes entre las dos listas.\n",
    "- La salida deberá no tener elementos duplicados.\n",
    "- Asegúrese que su programa funcione para dos listas de distintos tamaños."
   ]
  },
  {
   "cell_type": "code",
   "execution_count": null,
   "metadata": {
    "collapsed": true
   },
   "outputs": [],
   "source": [
    "listA = set([1,2,3,4,5,6,1,2,3,4])\n",
    "listB = set([3,4,3])\n",
    "\n",
    "\n",
    "for ElementA in listA:\n",
    "    if (ElementA in listB):\n",
    "        print(\"Element of listA: \" + str(ElementA) + \" is common to listB\")\n",
    "    else:\n",
    "        print(\"Element of listA: \" + str(ElementA) + \" is not common to listB\")"
   ]
  },
  {
   "cell_type": "markdown",
   "metadata": {},
   "source": [
    "[Ejercicio 6](http://www.practicepython.org/exercise/2014/03/12/06-string-lists.html)\n",
    "- Pedir al usuario que ingrese un texto.\n",
    "- Imprimir un mensaje que indique si el texto ingresado es un paĺíndromo o no."
   ]
  },
  {
   "cell_type": "code",
   "execution_count": null,
   "metadata": {
    "collapsed": true
   },
   "outputs": [],
   "source": [
    "text = input(\"Insert a text: \")\n",
    "length_list = range(len(text))\n",
    "reverse = ''\n",
    "for i in length_list:\n",
    "    reverse += text[len(text)-1-i]\n",
    "\n",
    "if (reverse == text):\n",
    "    print('This is a Palindrome')\n",
    "else:\n",
    "    print('This is NOT a Palindrome')"
   ]
  },
  {
   "cell_type": "markdown",
   "metadata": {},
   "source": [
    "[Ejercicio 7](http://www.practicepython.org/exercise/2014/03/19/07-list-comprehensions.html)\n",
    "- Escribir un programa que a partir de una lista, devuelva una lista que solo contenga los elementos pares.\n",
    "- La selección de elementos deberá hacerse en una sola línea de código."
   ]
  },
  {
   "cell_type": "code",
   "execution_count": null,
   "metadata": {
    "collapsed": true
   },
   "outputs": [],
   "source": [
    "list = [1,2,3,4,5,6,7,8,9,10,1,1,1,1,11,1,1,3,2]\n",
    "\n",
    "even_list = [element for element in list if element % 2 == 0 ]\n",
    "\n",
    "print(even_list)"
   ]
  },
  {
   "cell_type": "markdown",
   "metadata": {},
   "source": [
    "[Ejercicio 10](http://www.practicepython.org/exercise/2014/04/10/10-list-overlap-comprehensions.html)\n",
    "- Al igual que en el ejercicio 5, a partir de dos listas, se ddeberán devolver los elementos comunes entre las dos listas.\n",
    "- La salida deberá no tener elementos duplicados.\n",
    "- Se deberán utilizar list comprenhensions."
   ]
  },
  {
   "cell_type": "code",
   "execution_count": null,
   "metadata": {},
   "outputs": [],
   "source": [
    "list_a = [1,2,3,4]\n",
    "list_b = [2,3,3,3,3,4,3,3,3,3,3,3]\n",
    "\n",
    "#Se puede hacer usando set mas rapido.\n",
    "\n",
    "common_elements = [element_a for element_a in set(list_a) if element_a in list_b]\n",
    "\n",
    "resultado = [i for i in common_elements if common_elements.count(i) == 1]\n",
    "\n",
    "print(resultado)\n"
   ]
  },
  {
   "cell_type": "markdown",
   "metadata": {},
   "source": [
    "[Ejercicio 17](http://www.practicepython.org/exercise/2014/06/06/17-decode-a-web-page.html)\n",
    "\n",
    "- Utilizar los paquetes BeautifulSoup y request para imprimir una lista de los títulos de la página principal del [New York Times](https://www.nytimes.com/)."
   ]
  },
  {
   "cell_type": "code",
   "execution_count": null,
   "metadata": {},
   "outputs": [],
   "source": [
    "import requests\n",
    "from bs4 import BeautifulSoup\n",
    "\n",
    "get_url = 'https://www.nytimes.com/'\n",
    "req = requests.get(get_url)\n",
    "request_html = req.text\n",
    "\n",
    "print ('Len HTML:'+str(len(request_html)))\n",
    "\n",
    "soup = BeautifulSoup(request_html,'lxml')\n",
    "\n",
    "titles_list = []\n",
    "\n",
    "title = soup.findAll('h2', {'class': 'story-heading'})\n",
    "for row in title:\n",
    "    titles_list.append(row.text.replace(\"\\n\", \" \").strip())\n",
    "\n",
    "print (titles_list)"
   ]
  },
  {
   "cell_type": "markdown",
   "metadata": {
    "collapsed": true
   },
   "source": [
    "# Ejercitación en clase:\n",
    "Tutorial de Python 3: https://www.tutorialspoint.com/python3/index.htm  \n",
    "\n",
    "en particular:  \n",
    "\n",
    "Información sobre decisiones: https://www.tutorialspoint.com/python3/python_decision_making.htm  \n",
    "Información sobre tuplas: https://www.tutorialspoint.com/python3/python_tuples.htm  \n",
    "Información sobre listas: https://www.tutorialspoint.com/python3/python_lists.htm  \n",
    "\n",
    "Nótese que las listas no siguen el comportamiento esperado para un vector (como los que se usan en álgebra). Por ejemplo, su suma y la multiplicación por un escalar no devuelven el resultado de las operaciones propias de un vector. Cuando se quiere trabajar con arreglos (vectores) se utiliza el tipo numpy array del paquete numpy.  \n",
    "\n",
    "Información sobre arrays: https://www.tutorialspoint.com/numpy/index.htm  \n",
    "\n",
    "Información sobre diccionarios: https://www.tutorialspoint.com/python3/python_dictionary.htm  \n",
    "https://dev-notes.eu/2017/09/iterating-over-dictionary-in-python/  \n",
    "\n",
    "Información sobre funciones: https://www.tutorialspoint.com/python3/python_functions.htm  "
   ]
  },
  {
   "cell_type": "markdown",
   "metadata": {},
   "source": [
    "# Para leer sobre arrays:\n",
    "\n",
    "Creación de arrays: https://www.tutorialspoint.com/numpy/numpy_array_creation_routines.htm  \n",
    "https://www.tutorialspoint.com/numpy/numpy_array_from_existing_data.htm  \n",
    "https://www.tutorialspoint.com/numpy/numpy_array_from_numerical_ranges.htm  \n",
    "\n",
    "Funciones matemáticas: https://www.tutorialspoint.com/numpy/numpy_mathematical_functions.htm\n",
    "\n",
    "Algebra lineal: https://www.tutorialspoint.com/numpy/numpy_linear_algebra.htm  \n",
    "Funciones matriciales: https://www.tutorialspoint.com/numpy/numpy_matrix_library.htm   \n",
    "\n",
    "Gráficos básicos: https://www.tutorialspoint.com/numpy/numpy_matplotlib.htm  \n"
   ]
  },
  {
   "cell_type": "markdown",
   "metadata": {},
   "source": [
    "# Ejercicios adicionales\n",
    "\n",
    "* Explicar el ejemplo 2 del mini tutorial de broadcasting en: https://www.tutorialspoint.com/numpy/numpy_broadcasting.htm.  \n",
    "\n"
   ]
  }
 ],
 "metadata": {
  "kernelspec": {
   "display_name": "Python 3",
   "language": "python",
   "name": "python3"
  },
  "language_info": {
   "codemirror_mode": {
    "name": "ipython",
    "version": 3
   },
   "file_extension": ".py",
   "mimetype": "text/x-python",
   "name": "python",
   "nbconvert_exporter": "python",
   "pygments_lexer": "ipython3",
   "version": "3.6.4"
  },
  "toc": {
   "colors": {
    "hover_highlight": "#DAA520",
    "navigate_num": "#000000",
    "navigate_text": "#333333",
    "running_highlight": "#FF0000",
    "selected_highlight": "#FFD700",
    "sidebar_border": "#EEEEEE",
    "wrapper_background": "#FFFFFF"
   },
   "moveMenuLeft": true,
   "nav_menu": {
    "height": "48px",
    "width": "252px"
   },
   "navigate_menu": true,
   "number_sections": true,
   "sideBar": true,
   "threshold": 4,
   "toc_cell": false,
   "toc_section_display": "block",
   "toc_window_display": false,
   "widenNotebook": false
  }
 },
 "nbformat": 4,
 "nbformat_minor": 2
}
