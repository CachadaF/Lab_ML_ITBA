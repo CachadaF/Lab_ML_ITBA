{
 "cells": [
  {
   "cell_type": "markdown",
   "metadata": {},
   "source": [
    "# Guia regresión - Resuelto\n",
    "## Consigna\n",
    "Para el dataset a continuación, calcular la regresión polinómica e ir variando el orden hasta obtener el resultado óptimo de AIC y BIC. También calcular $ R^2 $ y los p values."
   ]
  },
  {
   "cell_type": "code",
   "execution_count": 22,
   "metadata": {
    "scrolled": true
   },
   "outputs": [
    {
     "data": {
      "image/png": "[encoded data removed]",
      "text/plain": [
       "<matplotlib.figure.Figure at 0x7f90993a2048>"
      ]
     },
     "metadata": {},
     "output_type": "display_data"
    }
   ],
   "source": [
    "import numpy as np\n",
    "import pandas as pd\n",
    "from sklearn.linear_model import LinearRegression\n",
    "import matplotlib.pyplot as plt\n",
    "\n",
    "x = np.load('X.npy')\n",
    "y = np.load('y.npy')\n",
    "plt.figure()\n",
    "plt.plot(x, y,'.',  color='blue')\n",
    "plt.title('Dataset')\n",
    "plt.show()\n",
    "\n",
    "# this allows plots to appear directly in the notebook\n",
    "%matplotlib inline"
   ]
  },
  {
   "cell_type": "markdown",
   "metadata": {},
   "source": [
    "# Funciones"
   ]
  },
  {
   "cell_type": "code",
   "execution_count": 57,
   "metadata": {},
   "outputs": [],
   "source": [
    "'''Función encargada de armar el polinomio'''\n",
    "#Recibe: Una lista de valores (En este caso del tipo x) y el grado del polinomio.\n",
    "#Retorna: Lista con los polinomios para c/valor de la lista_valores.\n",
    "#Uso : En el FIT.\n",
    "def Armar_Polinomio_de_Grado_N (lista_valores,N):\n",
    "    new_list_return=list()\n",
    "    for i in lista_valores:\n",
    "        new_list_return.append([i])\n",
    "        for j in range(1,N):    \n",
    "            new_list_return[-1].append(i**j)\n",
    "    return new_list_return"
   ]
  },
  {
   "cell_type": "markdown",
   "metadata": {},
   "source": [
    "# Solución"
   ]
  },
  {
   "cell_type": "code",
   "execution_count": 58,
   "metadata": {},
   "outputs": [
    {
     "name": "stdout",
     "output_type": "stream",
     "text": [
      "Cantidad de elementos en x:  500\n",
      "Cantidad de elementos en y:  500\n",
      "\n",
      "Primeros 10 elementos de x e y:\n",
      "x: [-15.         -14.93987976 -14.87975952 -14.81963928 -14.75951904\n",
      " -14.6993988  -14.63927856 -14.57915832 -14.51903808 -14.45891784]\n",
      "\n",
      "y: [-1106.05898936 -1601.67828299  -538.87681151 -1250.44850105\n",
      " -1525.05919039  -886.87092948  -113.08388129  -498.66479628\n",
      "  -886.32891294  -841.73274315]\n"
     ]
    }
   ],
   "source": [
    "count_x = np.count_nonzero(x)\n",
    "count_y = np.count_nonzero(y)\n",
    "print(\"Cantidad de elementos en x: \",count_x)\n",
    "print(\"Cantidad de elementos en y: \",count_y)\n",
    "print(\"\\nPrimeros 10 elementos de x e y:\")\n",
    "print(\"x:\",x[0:10])\n",
    "print(\"\\ny:\",y[0:10])"
   ]
  },
  {
   "cell_type": "markdown",
   "metadata": {},
   "source": [
    "# Aplico la solución por regresión lineal utilizando sklearn\n",
    "\n",
    "## Donde:\n",
    "    - N: Grado del polinomio.\n",
    "    - Porc_Train: Porcentaje de datos utilizados para el entrenamiento.\n",
    "    - Porc_Test: Porcentaje de datos utilizados para el testeo ( 1 - Porc_Train).\n",
    "    - x: Datos de X.\n",
    "    - y: Datos de Y."
   ]
  },
  {
   "cell_type": "code",
   "execution_count": 63,
   "metadata": {},
   "outputs": [],
   "source": [
    "#Definición de variables del modelo:\n",
    "Porc_Train = 0.5\n",
    "Porc_Test = 1 - Porc_Train\n",
    "#Sklearn - Regresión lineal\n",
    "lm3 = LinearRegression()\n",
    "#Calculo el index maximo\n",
    "Index_Train_Set = int(round(count_x * Porc_Train))\n",
    "Index_Test_Set = count_x - Index_Train_Set\n",
    "#Separo los sets en Train_Set y Test_Set\n",
    "Training_Set_X = x[:Index_Train_Set]\n",
    "Training_Set_Y = y[:Index_Train_Set]\n",
    "Test_Set_X = x[:Index_Test_Set]\n",
    "Test_Set_Y = y[:Index_Test_Set]"
   ]
  },
  {
   "cell_type": "code",
   "execution_count": 64,
   "metadata": {},
   "outputs": [
    {
     "name": "stdout",
     "output_type": "stream",
     "text": [
      "La ordenada al origen de nuestro modelo polinómico es: 250.86858591200522\n",
      "\n",
      "Los coeficientes del modelo polinómico de orden 1 son:\n",
      "[47.06958744]\n"
     ]
    }
   ],
   "source": [
    "#Orden - 1\n",
    "N = 1\n",
    "lm3.fit(Armar_Polinomio_de_Grado_N(Training_Set_X,N), Training_Set_Y)\n",
    "print(\"La ordenada al origen de nuestro modelo polinómico es: {}\".format(lm3.intercept_))\n",
    "print(\"\\nLos coeficientes del modelo polinómico de orden {} son:\".format(N))\n",
    "print(lm3.coef_)"
   ]
  },
  {
   "cell_type": "code",
   "execution_count": 65,
   "metadata": {},
   "outputs": [
    {
     "name": "stdout",
     "output_type": "stream",
     "text": [
      "La ordenada al origen de nuestro modelo polinómico es: 250.86858591200516\n",
      "\n",
      "Los coeficientes del modelo polinómico de orden 2 son:\n",
      "[23.53479372 23.53479372]\n"
     ]
    }
   ],
   "source": [
    "#Orden - 2\n",
    "N = 2\n",
    "lm3.fit(Armar_Polinomio_de_Grado_N(Training_Set_X,N), Training_Set_Y)\n",
    "print(\"La ordenada al origen de nuestro modelo polinómico es: {}\".format(lm3.intercept_))\n",
    "print(\"\\nLos coeficientes del modelo polinómico de orden {} son:\".format(N))\n",
    "print(lm3.coef_)"
   ]
  },
  {
   "cell_type": "code",
   "execution_count": 66,
   "metadata": {},
   "outputs": [
    {
     "name": "stdout",
     "output_type": "stream",
     "text": [
      "La ordenada al origen de nuestro modelo polinómico es: -250.34731982051326\n",
      "Los coeficientes del modelo polinómico de orden 3 son:\n",
      "[-76.50710073 -76.50710073 -13.31224142]\n"
     ]
    }
   ],
   "source": [
    "#Orden - 3\n",
    "N = 3\n",
    "lm3.fit(Armar_Polinomio_de_Grado_N(Training_Set_X,N), Training_Set_Y)\n",
    "print(\"La ordenada al origen de nuestro modelo polinómico es: {}\".format(lm3.intercept_))\n",
    "print(\"Los coeficientes del modelo polinómico de orden {} son:\".format(N))\n",
    "print(lm3.coef_)"
   ]
  },
  {
   "cell_type": "code",
   "execution_count": 70,
   "metadata": {},
   "outputs": [
    {
     "name": "stdout",
     "output_type": "stream",
     "text": [
      "La ordenada al origen de nuestro modelo polinómico es: -176.16298685741756\n",
      "Los coeficientes del modelo polinómico de orden 4 son:\n",
      "[-46.89409694 -46.89409694  -3.4610741    0.436954  ]\n"
     ]
    }
   ],
   "source": [
    "#Orden - 4\n",
    "N = 4\n",
    "lm3.fit(Armar_Polinomio_de_Grado_N(Training_Set_X,N), Training_Set_Y)\n",
    "print(\"La ordenada al origen de nuestro modelo polinómico es: {}\".format(lm3.intercept_))\n",
    "print(\"Los coeficientes del modelo polinómico de orden {} son:\".format(N))\n",
    "print(lm3.coef_)"
   ]
  },
  {
   "cell_type": "code",
   "execution_count": 71,
   "metadata": {},
   "outputs": [
    {
     "name": "stdout",
     "output_type": "stream",
     "text": [
      "La ordenada al origen de nuestro modelo polinómico es: -231.77300579930764\n",
      "Los coeficientes del modelo polinómico de orden 5 son:\n",
      "[-8.38878214e+01 -8.38878214e+01 -2.56120204e+01 -1.85556041e+00\n",
      " -7.62643128e-02]\n"
     ]
    }
   ],
   "source": [
    "#Orden - 5\n",
    "N = 5\n",
    "lm3.fit(Armar_Polinomio_de_Grado_N(Training_Set_X,N), Training_Set_Y)\n",
    "print(\"La ordenada al origen de nuestro modelo polinómico es: {}\".format(lm3.intercept_))\n",
    "print(\"Los coeficientes del modelo polinómico de orden {} son:\".format(N))\n",
    "print(lm3.coef_)"
   ]
  },
  {
   "cell_type": "code",
   "execution_count": 72,
   "metadata": {},
   "outputs": [
    {
     "name": "stdout",
     "output_type": "stream",
     "text": [
      "La ordenada al origen de nuestro modelo polinómico es: -215.85764253599453\n",
      "Los coeficientes del modelo polinómico de orden 6 son:\n",
      "[-6.80099195e+01 -6.80099195e+01 -1.08239008e+01  7.68070439e-01\n",
      "  1.20111707e-01  5.22622048e-03]\n"
     ]
    }
   ],
   "source": [
    "#Orden - 6\n",
    "N = 6\n",
    "lm3.fit(Armar_Polinomio_de_Grado_N(Training_Set_X,N), Training_Set_Y)\n",
    "print(\"La ordenada al origen de nuestro modelo polinómico es: {}\".format(lm3.intercept_))\n",
    "print(\"Los coeficientes del modelo polinómico de orden {} son:\".format(N))\n",
    "print(lm3.coef_)"
   ]
  },
  {
   "cell_type": "code",
   "execution_count": 73,
   "metadata": {},
   "outputs": [
    {
     "name": "stdout",
     "output_type": "stream",
     "text": [
      "La ordenada al origen de nuestro modelo polinómico es: -136.12491995106134\n",
      "Los coeficientes del modelo polinómico de orden 7 son:\n",
      "[4.33125117e+01 4.33125117e+01 1.37274201e+02 4.01778923e+01\n",
      " 5.03626346e+00 2.93058870e-01 6.38348853e-03]\n"
     ]
    }
   ],
   "source": [
    "#Orden - 7\n",
    "N = 7\n",
    "lm3.fit(Armar_Polinomio_de_Grado_N(Training_Set_X,N), Training_Set_Y)\n",
    "print(\"La ordenada al origen de nuestro modelo polinómico es: {}\".format(lm3.intercept_))\n",
    "print(\"Los coeficientes del modelo polinómico de orden {} son:\".format(N))\n",
    "print(lm3.coef_)"
   ]
  },
  {
   "cell_type": "code",
   "execution_count": 74,
   "metadata": {},
   "outputs": [
    {
     "name": "stdout",
     "output_type": "stream",
     "text": [
      "La ordenada al origen de nuestro modelo polinómico es: -59.22369006760087\n",
      "Los coeficientes del modelo polinómico de orden 8 son:\n",
      "[1.86387334e+02 1.86387335e+02 3.94179662e+02 1.35118364e+02\n",
      " 2.24054265e+01 1.95708096e+00 8.63413035e-02 1.51995999e-03]\n"
     ]
    }
   ],
   "source": [
    "#Orden - 8\n",
    "N = 8\n",
    "lm3.fit(Armar_Polinomio_de_Grado_N(Training_Set_X,N), Training_Set_Y)\n",
    "print(\"La ordenada al origen de nuestro modelo polinómico es: {}\".format(lm3.intercept_))\n",
    "print(\"Los coeficientes del modelo polinómico de orden {} son:\".format(N))\n",
    "print(lm3.coef_)"
   ]
  },
  {
   "cell_type": "code",
   "execution_count": 75,
   "metadata": {},
   "outputs": [
    {
     "name": "stdout",
     "output_type": "stream",
     "text": [
      "La ordenada al origen de nuestro modelo polinómico es: -114.2219171382832\n",
      "Los coeficientes del modelo polinómico de orden 9 son:\n",
      "[ 5.49435856e+01  5.49435780e+01  8.83241281e+01 -1.40576636e+01\n",
      " -1.48067691e+01 -3.19214489e+00 -3.13331354e-01 -1.47602298e-02\n",
      " -2.70793824e-04]\n"
     ]
    }
   ],
   "source": [
    "#Orden - 9\n",
    "N = 9\n",
    "lm3.fit(Armar_Polinomio_de_Grado_N(Training_Set_X,N), Training_Set_Y)\n",
    "print(\"La ordenada al origen de nuestro modelo polinómico es: {}\".format(lm3.intercept_))\n",
    "print(\"Los coeficientes del modelo polinómico de orden {} son:\".format(N))\n",
    "print(lm3.coef_)"
   ]
  },
  {
   "cell_type": "code",
   "execution_count": 76,
   "metadata": {},
   "outputs": [
    {
     "name": "stdout",
     "output_type": "stream",
     "text": [
      "La ordenada al origen de nuestro modelo polinómico es: -33.78574160264648\n",
      "Los coeficientes del modelo polinómico de orden 10 son:\n",
      "[2.94941321e+02 2.94940124e+02 7.90050066e+02 4.21438182e+02\n",
      " 1.26399531e+02 2.31085885e+01 2.60280452e+00 1.75289185e-01\n",
      " 6.44649773e-03 9.93164008e-05]\n"
     ]
    }
   ],
   "source": [
    "#Orden - 10\n",
    "N = 10\n",
    "lm3.fit(Armar_Polinomio_de_Grado_N(Training_Set_X,N), Training_Set_Y)\n",
    "print(\"La ordenada al origen de nuestro modelo polinómico es: {}\".format(lm3.intercept_))\n",
    "print(\"Los coeficientes del modelo polinómico de orden {} son:\".format(N))\n",
    "print(lm3.coef_)"
   ]
  },
  {
   "cell_type": "code",
   "execution_count": 77,
   "metadata": {},
   "outputs": [
    {
     "ename": "AttributeError",
     "evalue": "'LinearRegression' object has no attribute 'conf_int'",
     "output_type": "error",
     "traceback": [
      "\u001b[0;31m---------------------------------------------------------------------------\u001b[0m",
      "\u001b[0;31mAttributeError\u001b[0m                            Traceback (most recent call last)",
      "\u001b[0;32m<ipython-input-77-d4f55a6b9c8a>\u001b[0m in \u001b[0;36m<module>\u001b[0;34m()\u001b[0m\n\u001b[0;32m----> 1\u001b[0;31m \u001b[0mlm3\u001b[0m\u001b[0;34m.\u001b[0m\u001b[0mconf_int\u001b[0m\u001b[0;34m(\u001b[0m\u001b[0;34m)\u001b[0m\u001b[0;34m\u001b[0m\u001b[0m\n\u001b[0m",
      "\u001b[0;31mAttributeError\u001b[0m: 'LinearRegression' object has no attribute 'conf_int'"
     ]
    }
   ],
   "source": [
    "lm3.conf_int()"
   ]
  },
  {
   "cell_type": "code",
   "execution_count": null,
   "metadata": {},
   "outputs": [],
   "source": []
  }
 ],
 "metadata": {
  "kernelspec": {
   "display_name": "Python 3",
   "language": "python",
   "name": "python3"
  },
  "language_info": {
   "codemirror_mode": {
    "name": "ipython",
    "version": 3
   },
   "file_extension": ".py",
   "mimetype": "text/x-python",
   "name": "python",
   "nbconvert_exporter": "python",
   "pygments_lexer": "ipython3",
   "version": "3.6.4"
  }
 },
 "nbformat": 4,
 "nbformat_minor": 2
}
